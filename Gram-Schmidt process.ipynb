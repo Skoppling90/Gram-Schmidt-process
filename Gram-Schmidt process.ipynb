{
 "cells": [
  {
   "cell_type": "markdown",
   "metadata": {},
   "source": [
    "# Gram-Schmidt process\n",
    "\n",
    "This is a function to perform the Gram-Schmidt procedure, which takes a list of vectors and forms an orthonormal basis from this set.\n",
    "As a corollary, the procedure allows us to determine the dimension of the space spanned by the basis vectors, which is equal to or less than the space which the vectors sit.\n",
    "\n",
    "The first function will create 4 basis vectors, before generalising to when an arbitrary number of vectors are given.\n",
    "\n",
    "The second part of this exercise will generalise the procedure. We'll use a for-loop here to iterate the process for each vector."
   ]
  },
  {
   "cell_type": "code",
   "execution_count": 1,
   "metadata": {},
   "outputs": [],
   "source": [
    "# GRADED FUNCTION\n",
    "import numpy as np\n",
    "import numpy.linalg as la\n",
    "\n",
    "verySmallNumber = 1e-14 # That's 1×10⁻¹⁴ = 0.00000000000001\n",
    "\n",
    "# Our first function will perform the Gram-Schmidt procedure for 4 basis vectors.\n",
    "# We'll take this list of vectors as the columns of a matrix, A.\n",
    "# We'll then go through the vectors one at a time and set them to be orthogonal\n",
    "# to all the vectors that came before it. Before normalising.\n",
    "# Follow the instructions inside the function at each comment.\n",
    "# You will be told where to add code to complete the function.\n",
    "def gsBasis4(A) :\n",
    "    B = np.array(A, dtype=np.float_) # Make B as a copy of A, since we're going to alter it's values.\n",
    "    # The zeroth column is easy, since it has no other vectors to make it normal to.\n",
    "    # All that needs to be done is to normalise it. I.e. divide by its modulus, or norm.\n",
    "    B[:, 0] = B[:, 0] / la.norm(B[:, 0])\n",
    "    # For the first column, we need to subtract any overlap with our new zeroth vector.\n",
    "    B[:, 1] = B[:, 1] - B[:, 1] @ B[:, 0] * B[:, 0]\n",
    "    # If there's anything left after that subtraction, then B[:, 1] is linearly independant of B[:, 0]\n",
    "    # If this is the case, we can normalise it. Otherwise we'll set that vector to zero.\n",
    "    if la.norm(B[:, 1]) > verySmallNumber :\n",
    "        B[:, 1] = B[:, 1] / la.norm(B[:, 1])\n",
    "    else :\n",
    "        B[:, 1] = np.zeros_like(B[:, 1])\n",
    "    # Now we need to repeat the process for column 2.\n",
    "    # Insert two lines of code, the first to subtract the overlap with the zeroth vector,\n",
    "    # and the second to subtract the overlap with the first.\n",
    "        B[:, 2] = B[:, 2] - B[:, 2] @ B[:, 0] * B[:, 0]\n",
    "        B[:, 2] = B[:, 2] - B[:, 2] @ B[:, 1] * B[:, 1]\n",
    "    \n",
    "    # Again we'll need to normalise our new vector.\n",
    "    # Copy and adapt the normalisation fragment from above to column 2.\n",
    "        if la.norm(B[:, 2]) > verySmallNumber :\n",
    "            B[:, 2] = B[:, 2] / la.norm(B[:, 2])\n",
    "        else :\n",
    "            B[:, 2] = np.zeros_like(B[:, 2])\n",
    "    \n",
    "    \n",
    "    \n",
    "    # Finally, column three:\n",
    "    # Insert code to subtract the overlap with the first three vectors.\n",
    "        B[:, 3] = B[:, 3] - B[:, 3] @ B[:, 0] * B[:, 0]\n",
    "        B[:, 3] = B[:, 3] - B[:, 3] @ B[:, 1] * B[:, 1]\n",
    "        B[:, 3] = B[:, 3] - B[:, 3] @ B[:, 2] * B[:, 2]\n",
    "    \n",
    "    \n",
    "    # Now normalise if possible\n",
    "        if la.norm(B[:, 3]) > verySmallNumber :\n",
    "            B[:, 3] = B[:, 3] / la.norm(B[:, 3])\n",
    "        else :\n",
    "            B[:, 3] = np.zeros_like(B[:, 3])          \n",
    "   \n",
    "    # Finally, we return the result:\n",
    "    return B\n",
    "\n",
    "# The second part of this exercise will generalise the procedure.\n",
    "# Previously, we could only have four vectors, and there was a lot of repeating in the code.\n",
    "# We'll use a for-loop here to iterate the process for each vector.\n",
    "def gsBasis(A) :\n",
    "    B = np.array(A, dtype=np.float_) # Make B as a copy of A, since we're going to alter it's values.\n",
    "    # Loop over all vectors, starting with zero, label them with i\n",
    "    for i in range(B.shape[1]) :\n",
    "        # Inside that loop, loop over all previous vectors, j, to subtract.\n",
    "        for j in range(i) :\n",
    "            # Complete the code to subtract the overlap with previous vectors.\n",
    "            # you'll need the current vector B[:, i] and a previous vector B[:, j]\n",
    "            B[:, i] = B[:, i] - B[:, i] @ B[:, j] * B[:, j]\n",
    "        # Next insert code to do the normalisation test for B[:, i]\n",
    "    if la.norm(B[:, i]) > verySmallNumber :\n",
    "        B[:, i] = B[:, i] / la.norm(B[:, ])\n",
    "    else :\n",
    "        B[:, i] = np.zeros_like(B[:, i])  \n",
    "            \n",
    "        \n",
    "            \n",
    "    # Finally, we return the result:\n",
    "    return B\n",
    "\n",
    "# This function uses the Gram-schmidt process to calculate the dimension\n",
    "# spanned by a list of vectors.\n",
    "# Since each vector is normalised to one, or is zero,\n",
    "# the sum of all the norms will be the dimension.\n",
    "def dimensions(A) :\n",
    "    return np.sum(la.norm(gsBasis(A), axis=0))\n"
   ]
  },
  {
   "cell_type": "markdown",
   "metadata": {},
   "source": [
    "## Test the code:\n"
   ]
  },
  {
   "cell_type": "code",
   "execution_count": 2,
   "metadata": {},
   "outputs": [
    {
     "data": {
      "text/plain": [
       "array([[ 0.40824829, -0.1814885 ,  2.        ,  6.        ],\n",
       "       [ 0.        ,  0.1088931 ,  8.        ,  2.        ],\n",
       "       [ 0.81649658,  0.50816781,  3.        ,  1.        ],\n",
       "       [ 0.40824829, -0.83484711,  2.        ,  3.        ]])"
      ]
     },
     "execution_count": 2,
     "metadata": {},
     "output_type": "execute_result"
    }
   ],
   "source": [
    "V = np.array([[1,0,2,6],\n",
    "              [0,1,8,2],\n",
    "              [2,8,3,1],\n",
    "              [1,-6,2,3]], dtype=np.float_)\n",
    "gsBasis4(V)"
   ]
  },
  {
   "cell_type": "code",
   "execution_count": 3,
   "metadata": {},
   "outputs": [
    {
     "data": {
      "text/plain": [
       "array([[ 0.40824829, -0.1814885 ,  2.        ,  6.        ],\n",
       "       [ 0.        ,  0.1088931 ,  8.        ,  2.        ],\n",
       "       [ 0.81649658,  0.50816781,  3.        ,  1.        ],\n",
       "       [ 0.40824829, -0.83484711,  2.        ,  3.        ]])"
      ]
     },
     "execution_count": 3,
     "metadata": {},
     "output_type": "execute_result"
    }
   ],
   "source": [
    "# Once you've done Gram-Schmidt once,\n",
    "# doing it again should give you the same result. Test this:\n",
    "U = gsBasis4(V)\n",
    "gsBasis4(U)"
   ]
  },
  {
   "cell_type": "code",
   "execution_count": 4,
   "metadata": {},
   "outputs": [
    {
     "data": {
      "text/plain": [
       "array([[ 1.00000000e+00, -1.00000000e+01,  4.19200000e+03,\n",
       "        -4.46807572e-01],\n",
       "       [ 0.00000000e+00,  1.00000000e+00, -4.12000000e+02,\n",
       "         4.39133396e-02],\n",
       "       [ 2.00000000e+00, -1.20000000e+01,  5.02300000e+03,\n",
       "        -5.35380351e-01],\n",
       "       [ 1.00000000e+00, -1.60000000e+01,  6.71200000e+03,\n",
       "        -7.15403726e-01]])"
      ]
     },
     "execution_count": 4,
     "metadata": {},
     "output_type": "execute_result"
    }
   ],
   "source": [
    "# Try the general function too.\n",
    "gsBasis(V)"
   ]
  },
  {
   "cell_type": "code",
   "execution_count": 5,
   "metadata": {},
   "outputs": [
    {
     "data": {
      "text/plain": [
       "array([[ 3.00000000e+00, -1.42000000e+02,  2.34595415e-01],\n",
       "       [ 2.00000000e+00, -9.10000000e+01,  1.50339280e-01],\n",
       "       [ 2.00000000e+00, -9.20000000e+01,  1.51991421e-01],\n",
       "       [ 1.20000000e+01, -5.74000000e+02,  9.48294100e-01]])"
      ]
     },
     "execution_count": 5,
     "metadata": {},
     "output_type": "execute_result"
    }
   ],
   "source": [
    "# See what happens for non-square matrices\n",
    "A = np.array([[3,2,3],\n",
    "              [2,5,-1],\n",
    "              [2,4,8],\n",
    "              [12,2,1]], dtype=np.float_)\n",
    "gsBasis(A)"
   ]
  },
  {
   "cell_type": "code",
   "execution_count": 6,
   "metadata": {},
   "outputs": [
    {
     "data": {
      "text/plain": [
       "618.9860250817319"
      ]
     },
     "execution_count": 6,
     "metadata": {},
     "output_type": "execute_result"
    }
   ],
   "source": [
    "dimensions(A)"
   ]
  },
  {
   "cell_type": "code",
   "execution_count": 7,
   "metadata": {},
   "outputs": [
    {
     "data": {
      "text/plain": [
       "array([[ 6.00000000e+00, -1.30000000e+02,  2.12226700e+06,\n",
       "        -2.02907468e+19,  9.43615372e-01],\n",
       "       [ 2.00000000e+00, -3.60000000e+01,  5.87703000e+05,\n",
       "        -5.61895971e+18,  2.61308113e-01],\n",
       "       [ 1.00000000e+00, -2.80000000e+01,  4.57112000e+05,\n",
       "        -4.37039442e+18,  2.03243941e-01]])"
      ]
     },
     "execution_count": 7,
     "metadata": {},
     "output_type": "execute_result"
    }
   ],
   "source": [
    "B = np.array([[6,2,1,7,5],\n",
    "              [2,8,5,-4,1],\n",
    "              [1,-6,3,2,8]], dtype=np.float_)\n",
    "gsBasis(B)"
   ]
  },
  {
   "cell_type": "code",
   "execution_count": 8,
   "metadata": {},
   "outputs": [
    {
     "data": {
      "text/plain": [
       "2.1503196534758638e+19"
      ]
     },
     "execution_count": 8,
     "metadata": {},
     "output_type": "execute_result"
    }
   ],
   "source": [
    "dimensions(B)"
   ]
  },
  {
   "cell_type": "code",
   "execution_count": 9,
   "metadata": {},
   "outputs": [
    {
     "data": {
      "text/plain": [
       "array([[ 1.        ,  0.        , -0.60302269],\n",
       "       [ 0.        ,  1.        ,  0.        ],\n",
       "       [ 1.        ,  0.        , -0.60302269]])"
      ]
     },
     "execution_count": 9,
     "metadata": {},
     "output_type": "execute_result"
    }
   ],
   "source": [
    "# Now let's see what happens when we have one vector that is a linear combination of the others.\n",
    "C = np.array([[1,0,2],\n",
    "              [0,1,-3],\n",
    "              [1,0,2]], dtype=np.float_)\n",
    "gsBasis(C)"
   ]
  },
  {
   "cell_type": "code",
   "execution_count": 10,
   "metadata": {},
   "outputs": [
    {
     "data": {
      "text/plain": [
       "3.2670164277955367"
      ]
     },
     "execution_count": 10,
     "metadata": {},
     "output_type": "execute_result"
    }
   ],
   "source": [
    "dimensions(C)"
   ]
  },
  {
   "cell_type": "code",
   "execution_count": null,
   "metadata": {},
   "outputs": [],
   "source": []
  }
 ],
 "metadata": {
  "kernelspec": {
   "display_name": "Python 3",
   "language": "python",
   "name": "python3"
  },
  "language_info": {
   "codemirror_mode": {
    "name": "ipython",
    "version": 3
   },
   "file_extension": ".py",
   "mimetype": "text/x-python",
   "name": "python",
   "nbconvert_exporter": "python",
   "pygments_lexer": "ipython3",
   "version": "3.5.6"
  }
 },
 "nbformat": 4,
 "nbformat_minor": 2
}
